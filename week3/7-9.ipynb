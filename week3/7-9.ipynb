{
 "cells": [
  {
   "cell_type": "code",
   "execution_count": 10,
   "metadata": {},
   "outputs": [],
   "source": [
    "import numpy as np\n",
    "import scipy as sp"
   ]
  },
  {
   "cell_type": "code",
   "execution_count": 11,
   "metadata": {},
   "outputs": [],
   "source": [
    "def chi_func(x, n):\n",
    "    return 0.5 ** (n / 2) * x ** (n / 2 - 1) * np.e ** (-0.5 * x) / sp.special.gamma(n / 2)"
   ]
  },
  {
   "cell_type": "markdown",
   "metadata": {},
   "source": [
    "### Задание 7"
   ]
  },
  {
   "cell_type": "code",
   "execution_count": 15,
   "metadata": {},
   "outputs": [
    {
     "name": "stdout",
     "output_type": "stream",
     "text": [
      "mpi = [108.67017381  66.28880603  24.95602577]\n",
      "mi = [109  65  26]\n",
      "delta = 0.069730502447611\n",
      "p-value = 0.9593493353414723\n"
     ]
    },
    {
     "name": "stderr",
     "output_type": "stream",
     "text": [
      "/var/folders/xb/xmtyzlrj1c9858dbjg7vv67w0000gn/T/ipykernel_43400/2990380080.py:1: DeprecationWarning: `np.math` is a deprecated alias for the standard library `math` module (Deprecated Numpy 1.25). Replace usages of `np.math` with `math`\n",
      "  p = lambda x, y: y ** x / np.math.factorial(x) * np.e ** (-y)\n"
     ]
    }
   ],
   "source": [
    "p = lambda x, y: y ** x / np.math.factorial(x) * np.e ** (-y)\n",
    "npi = np.array([])\n",
    "mi = np.array([109, 65, 22, 3, 1])\n",
    "for i in range(5):\n",
    "    npi = np.append(npi, p(i, 0.61))\n",
    "\n",
    "npi *= 200\n",
    "npi = np.append(npi[0:2], np.sum(npi[2:]))\n",
    "mi = np.append(mi[0:2], np.sum(mi[2:]))\n",
    "print(f\"mpi = {npi}\")\n",
    "print(f\"mi = {mi}\")\n",
    "\n",
    "delta = np.sum((npi - mi) ** 2 / npi)\n",
    "print(f\"delta = {delta}\")\n",
    "\n",
    "lower_lim = 0.083\n",
    "chi_num = 2\n",
    "print(f\"p-value = {sp.integrate.quad(chi_func, lower_lim, np.inf, args=chi_num)[0]}\")"
   ]
  },
  {
   "cell_type": "markdown",
   "metadata": {},
   "source": [
    "### Задание 8"
   ]
  },
  {
   "cell_type": "code",
   "execution_count": null,
   "metadata": {},
   "outputs": [
    {
     "name": "stdout",
     "output_type": "stream",
     "text": [
      "[0.385 0.455 0.16 ]\n",
      "[0.5 0.5]\n",
      "test\n",
      "4.733766233766234\n",
      "delta = 20.48264235764236\n",
      "p-value = 3.5665697729502814e-05\n"
     ]
    }
   ],
   "source": [
    "n = 200\n",
    "a = np.array([[25, 50, 25], [52, 41, 7]])\n",
    "\n",
    "row_sum = np.sum(a, 0) / 200\n",
    "print(row_sum)\n",
    "col_sum = np.sum(a, 1) / 200\n",
    "print(col_sum)\n",
    "\n",
    "delta = 0\n",
    "for i in range(2):\n",
    "    for j in range(3):\n",
    "        delta += (a[i, j] - n * row_sum[j] * col_sum[i]) ** 2 / (n * row_sum[j] * col_sum[i])\n",
    "\n",
    "\n",
    "chi_num = 2\n",
    "lower_lim = delta\n",
    "print(f\"delta = {delta}\")\n",
    "print(f\"p-value = {sp.integrate.quad(chi_func, lower_lim, np.inf, args=chi_num)[0]}\")"
   ]
  },
  {
   "cell_type": "markdown",
   "metadata": {},
   "source": [
    "### Задание 9"
   ]
  },
  {
   "cell_type": "code",
   "execution_count": 58,
   "metadata": {},
   "outputs": [
    {
     "name": "stdout",
     "output_type": "stream",
     "text": [
      "v = [0.12       0.13       0.25333333 0.49666667]\n",
      "delta = [1.0385679609452128, 1.0385679609452128]\n",
      "sum of deltas = 2.0771359218904255\n",
      "p-value = 0.5565521530460767\n"
     ]
    }
   ],
   "source": [
    "n = 600\n",
    "a = np.array([[33, 43, 80, 144], [39, 35, 72, 154]])\n",
    "v = np.sum(a, 0) / n\n",
    "print(f\"v = {v}\")\n",
    "\n",
    "delta = [0, 0]\n",
    "for i in range(2):\n",
    "    for j in range(4):\n",
    "       tmp_delta = (a[i, j] - np.sum(a, 1)[i] * v[j]) ** 2 / (np.sum(a, 1)[i] * v[j])\n",
    "       delta[i] += tmp_delta\n",
    "\n",
    "print(f\"delta = {delta}\")\n",
    "print(f\"sum of deltas = {np.sum(delta)}\")\n",
    "\n",
    "chi_num = 3\n",
    "lower_lim = np.sum(delta)\n",
    "print(f\"p-value = {sp.integrate.quad(chi_func, lower_lim, np.inf, chi_num)[0]}\")"
   ]
  },
  {
   "cell_type": "code",
   "execution_count": null,
   "metadata": {},
   "outputs": [],
   "source": []
  }
 ],
 "metadata": {
  "kernelspec": {
   "display_name": "Python 3",
   "language": "python",
   "name": "python3"
  },
  "language_info": {
   "codemirror_mode": {
    "name": "ipython",
    "version": 3
   },
   "file_extension": ".py",
   "mimetype": "text/x-python",
   "name": "python",
   "nbconvert_exporter": "python",
   "pygments_lexer": "ipython3",
   "version": "3.11.1"
  }
 },
 "nbformat": 4,
 "nbformat_minor": 2
}
