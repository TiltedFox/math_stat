{
 "cells": [
  {
   "cell_type": "code",
   "execution_count": null,
   "metadata": {},
   "outputs": [],
   "source": [
    "import numpy as np\n",
    "import scipy as sp"
   ]
  },
  {
   "cell_type": "code",
   "execution_count": 2,
   "metadata": {},
   "outputs": [],
   "source": [
    "def chi_func(x, n):\n",
    "    return 0.5 ** (n / 2) * x ** (n / 2 - 1) * np.e ** (-0.5 * x) / sp.special.gamma(n / 2)"
   ]
  },
  {
   "cell_type": "markdown",
   "metadata": {},
   "source": [
    "### Пункт А"
   ]
  },
  {
   "cell_type": "markdown",
   "metadata": {},
   "source": [
    "#### Пирсон"
   ]
  },
  {
   "cell_type": "code",
   "execution_count": 4,
   "metadata": {},
   "outputs": [
    {
     "name": "stdout",
     "output_type": "stream",
     "text": [
      "delta = 14.9583095374072\n",
      "p-value = 0.05996119217231373\n"
     ]
    }
   ],
   "source": [
    "n = 100\n",
    "mi = np.array([5, 8, 6, 12, 14, 18, 11, 6, 13, 7])\n",
    "pi = np.array([0.103, 0.103, 0.103, 0.103, 0.103, 0.103, 0.103, 0.103, 0.103, 0.068])\n",
    "\n",
    "delta = np.sum((n * pi - mi) ** 2 / (n * pi))\n",
    "print(f\"delta = {delta}\")\n",
    "\n",
    "lower_lim = delta\n",
    "chi_num = 8\n",
    "print(f\"p-value = {sp.integrate.quad(chi_func, lower_lim, np.inf, args=chi_num)[0]}\")"
   ]
  },
  {
   "cell_type": "markdown",
   "metadata": {},
   "source": [
    "#### Колмогоров"
   ]
  },
  {
   "cell_type": "code",
   "execution_count": 30,
   "metadata": {},
   "outputs": [
    {
     "name": "stdout",
     "output_type": "stream",
     "text": [
      "delta = 1.5506556245686682\n",
      "738\n",
      "p-value = 0.01476\n"
     ]
    }
   ],
   "source": [
    "n = 100\n",
    "theta = 9.66\n",
    "mi = np.array([5, 8, 6, 12, 14, 18, 11, 6, 13, 7])\n",
    "pi = np.array([0.103, 0.103, 0.103, 0.103, 0.103, 0.103, 0.103, 0.103, 0.103, 0.068])\n",
    "\n",
    "# Массив значений для эмпирической функции\n",
    "f = mi * (1 / n)\n",
    "empir_func = [0] * 11\n",
    "for i in range(len(f)):\n",
    "    empir_func[i+1] = empir_func[i] + f[i]\n",
    "empir_func = np.array(empir_func)\n",
    "\n",
    "# Функция распределения\n",
    "x = np.linspace(0, 10, 10)\n",
    "func = x / theta\n",
    "\n",
    "delta = 0\n",
    "for i in range(len(mi)):\n",
    "    tmp_delta = np.sqrt(n) * max(abs(func[i] - empir_func[i]), abs(func[i] - empir_func[i+1]))\n",
    "    if tmp_delta > delta:\n",
    "        delta = tmp_delta\n",
    "print(f\"delta = {delta}\")\n",
    "\n",
    "N = 50000\n",
    "k = 0\n",
    "for _ in range(N):\n",
    "    distr = np.array(theta * np.random.uniform(0, theta, n))\n",
    "    distr_theta = max(distr)\n",
    "\n",
    "    \n",
    "    distr = np.sort(distr)\n",
    "    distr_empir_func = np.arange(n + 1) / n\n",
    "\n",
    "    distr_delta = 0\n",
    "    for i in range(n):\n",
    "        distr_tmp_delta = np.sqrt(n) * max(abs(distr[i] / distr_theta - distr_empir_func[i]), abs(distr[i] / distr_theta - distr_empir_func[i+1]))\n",
    "        if distr_tmp_delta > distr_delta:\n",
    "            distr_delta = distr_tmp_delta\n",
    "    if distr_delta > delta:\n",
    "        k += 1\n",
    "\n",
    "print(k)\n",
    "print(f\"p-value = {k / N}\")\n"
   ]
  },
  {
   "cell_type": "markdown",
   "metadata": {},
   "source": [
    "### Пункт Б"
   ]
  },
  {
   "cell_type": "markdown",
   "metadata": {},
   "source": [
    "#### Пирсон"
   ]
  },
  {
   "cell_type": "code",
   "execution_count": 52,
   "metadata": {},
   "outputs": [],
   "source": [
    "def normal(x, t1, t2):\n",
    "    return 1 / (np.sqrt(2 * np.pi) * t2) * np.e ** (-(x - t1) ** 2 / (2 * t2 ** 2))"
   ]
  },
  {
   "cell_type": "code",
   "execution_count": 60,
   "metadata": {},
   "outputs": [
    {
     "name": "stdout",
     "output_type": "stream",
     "text": [
      "(4.77, 2.505414137423193)\n",
      "delta = 17.111548080018693\n",
      "p-value = 0.01669088659569439\n"
     ]
    }
   ],
   "source": [
    "n = 100\n",
    "\n",
    "data = [0] * 5 + [1] * 8 + [2] * 6 + [3] * 12 + [4] * 14 + [5] * 18 + [6] * 11 + [7] * 6 + [8] * 13 + [9] * 7\n",
    "print(sp.stats.norm.fit(data)) # Здесь ОМП, а не ОМПГ\n",
    "\n",
    "pi = np.array([])\n",
    "for i in range(9):\n",
    "    pi = np.append(pi, sp.integrate.quad(normal, i, i+1, args=sp.stats.norm.fit(data))[0])\n",
    "pi = np.append(pi, sp.integrate.quad(normal, 9, np.inf, args=sp.stats.norm.fit(data))[0])\n",
    "mi = np.array([5, 8, 6, 12, 14, 18, 11, 6, 13, 7])\n",
    "\n",
    "delta = np.sum((n * pi - mi) ** 2 / (n * pi))\n",
    "print(f\"delta = {delta}\")\n",
    "\n",
    "lower_lim = delta\n",
    "chi_num = 7\n",
    "print(f\"p-value = {sp.integrate.quad(chi_func, lower_lim, np.inf, args=chi_num)[0]}\")"
   ]
  },
  {
   "cell_type": "markdown",
   "metadata": {},
   "source": [
    "#### Колмогоров"
   ]
  },
  {
   "cell_type": "code",
   "execution_count": null,
   "metadata": {},
   "outputs": [
    {
     "name": "stdout",
     "output_type": "stream",
     "text": [
      "delta = 9.819882783216855\n"
     ]
    }
   ],
   "source": [
    "n = 100\n",
    "t1 = 4.77\n",
    "t2 = 2.505\n",
    "mi = np.array([5, 8, 6, 12, 14, 18, 11, 6, 13, 7])\n",
    "\n",
    "# Массив значений для эмпирической функции\n",
    "f = mi * (1 / n)\n",
    "empir_func = [0] * 11\n",
    "for i in range(len(f)):\n",
    "    empir_func[i+1] = empir_func[i] + f[i]\n",
    "empir_func = np.array(empir_func)\n",
    "\n",
    "# Функция распределения\n",
    "x = np.linspace(0, 10, 10)\n",
    "func = normal(x, t1, t2)\n",
    "\n",
    "delta = 0\n",
    "for i in range(len(mi)):\n",
    "    tmp_delta = np.sqrt(n) * max(abs(func[i] - empir_func[i]), abs(func[i] - empir_func[i+1]))\n",
    "    if tmp_delta > delta:\n",
    "        delta = tmp_delta\n",
    "print(f\"delta = {delta}\")\n",
    "\n",
    "N = 50000\n",
    "k = 0\n",
    "for _ in range(N):\n",
    "    distr = np.array(np.random.normal(t1, t2, n))\n",
    "    distr_t1, distr_t2 = sp.stats.norm.fit(distr)\n",
    "\n",
    "    distr = np.sort(distr)\n",
    "    distr_empir_func = np.arange(n + 1) / n\n",
    "\n",
    "    distr_delta = 0\n",
    "    for i in range(n):\n",
    "        distr_tmp_delta = np.sqrt(n) * max(abs(normal(distr[i], distr_t1, distr_t2) - distr_empir_func[i]), abs(normal(distr[i], distr_t1, distr_t2) - distr_empir_func[i+1]))\n",
    "        if distr_tmp_delta > distr_delta:\n",
    "            distr_delta = distr_tmp_delta\n",
    "    if distr_delta > delta:\n",
    "        k += 1\n",
    "\n",
    "# print(k)\n",
    "print(f\"p-value = {k / N}\")"
   ]
  }
 ],
 "metadata": {
  "kernelspec": {
   "display_name": "Python 3",
   "language": "python",
   "name": "python3"
  },
  "language_info": {
   "codemirror_mode": {
    "name": "ipython",
    "version": 3
   },
   "file_extension": ".py",
   "mimetype": "text/x-python",
   "name": "python",
   "nbconvert_exporter": "python",
   "pygments_lexer": "ipython3",
   "version": "3.11.1"
  }
 },
 "nbformat": 4,
 "nbformat_minor": 2
}
