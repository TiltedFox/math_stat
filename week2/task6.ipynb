{
 "cells": [
  {
   "cell_type": "code",
   "execution_count": 46,
   "metadata": {},
   "outputs": [],
   "source": [
    "import numpy as np\n",
    "import matplotlib.pyplot as plt"
   ]
  },
  {
   "cell_type": "markdown",
   "metadata": {},
   "source": [
    "### Константы"
   ]
  },
  {
   "cell_type": "code",
   "execution_count": 40,
   "metadata": {},
   "outputs": [],
   "source": [
    "elem_number = 100\n",
    "tetta = 3\n",
    "betta = 0.95"
   ]
  },
  {
   "cell_type": "code",
   "execution_count": 5,
   "metadata": {},
   "outputs": [],
   "source": [
    "def pareto(x, tetta):\n",
    "    return (tetta - 1) / x ** tetta"
   ]
  },
  {
   "cell_type": "code",
   "execution_count": 17,
   "metadata": {},
   "outputs": [
    {
     "name": "stdout",
     "output_type": "stream",
     "text": [
      "[1.12818914e+01 7.75827424e+00 2.67997995e+01 1.27891100e+03\n",
      " 6.31830411e+00 1.43867549e+04 3.92718090e+00 6.38993685e+01\n",
      " 4.77111713e+00 6.64602963e+00 4.22851772e+02 2.45943624e+00\n",
      " 1.32583717e+01 2.12232795e+02 3.82347909e+00 6.79678557e+00\n",
      " 1.01469071e+01 8.24257599e+00 7.67189988e+05 3.92738428e+01\n",
      " 2.21380358e+00 8.28369306e+01 3.10256396e+00 2.27904077e+00\n",
      " 5.15333440e+00 9.13669734e+00 1.76269144e+01 4.79210907e+00\n",
      " 2.15811809e+04 2.10517585e+02 2.59770419e+03 9.28111881e+00\n",
      " 3.09238847e+00 1.85768506e+04 4.26479534e+01 8.09715795e+00\n",
      " 4.88886619e+00 2.88051976e+00 1.87776004e+01 2.05663485e+00\n",
      " 9.96634702e+00 4.51118577e+00 1.27599005e+05 2.68874136e+00\n",
      " 4.09525211e+02 2.17341605e+01 3.72317943e+02 2.34817238e+00\n",
      " 1.17946930e+01 7.17679230e+04 6.77214826e+00 1.31905110e+04\n",
      " 1.09828547e+01 3.98301477e+00 6.58349569e+00 8.77882711e+00\n",
      " 6.89525481e+00 1.93344963e+01 6.51103930e+01 5.89583829e+00\n",
      " 5.18136497e+00 2.26874426e+01 8.26719978e+02 8.16984325e+01\n",
      " 2.98315434e+00 2.31523021e+01 1.65083714e+01 1.00483094e+03\n",
      " 3.92272460e+00 2.52664078e+02 4.24630695e+02 3.94748755e+02\n",
      " 1.11397600e+01 4.25558029e+00 8.19270217e+00 8.31501649e+00\n",
      " 6.57683022e+06 1.64463448e+04 4.75763531e+00 3.11300122e+00\n",
      " 3.42078295e+05 8.53465614e+01 2.48593979e+00 4.43279503e+02\n",
      " 4.57401091e+00 2.45412822e+00 6.45970623e+00 8.57324513e+00\n",
      " 1.37307186e+01 3.35928174e+02 3.69760417e+02 2.60541815e+00\n",
      " 1.75700510e+02 1.68507849e+01 1.14851283e+01 1.44307783e+01\n",
      " 2.54538364e+01 4.72394395e+01 1.47728893e+01 2.85043196e+01]\n"
     ]
    }
   ],
   "source": [
    "distribution = np.array([pareto(x, tetta) for x in np.random.sample(elem_number)])\n",
    "print(distribution)"
   ]
  },
  {
   "cell_type": "markdown",
   "metadata": {},
   "source": [
    "### Медиана"
   ]
  },
  {
   "cell_type": "code",
   "execution_count": 38,
   "metadata": {},
   "outputs": [
    {
     "name": "stdout",
     "output_type": "stream",
     "text": [
      "Tetta_estim - 1.269\n",
      "Interval for med - (5.992, 8.878)\n"
     ]
    }
   ],
   "source": [
    "tetta_estim = np.round(elem_number / np.sum(np.log(distribution)) + 1, 3)\n",
    "\n",
    "# tetta_estim = 3\n",
    "# Если взять тэтту за 3, как задавал, то получается правдоподобный интервал для медианы\n",
    "right = np.round(-(-1.96 / np.sqrt(elem_number) * np.sqrt(2 ** (2 / (tetta_estim - 1)) \\\n",
    "        * np.log(2) ** 2 / (tetta_estim ** 2 - 4 * tetta_estim + 5))) + 2 * (1 / (tetta_estim - 1)), 3)\n",
    "left = np.round(-(1.96 / np.sqrt(elem_number) * np.sqrt(2 ** (2 / (tetta_estim - 1)) \\\n",
    "        * np.log(2) ** 2 / (tetta_estim ** 2 - 4 * tetta_estim + 5))) + 2 * (1 / (tetta_estim - 1)), 3)\n",
    "\n",
    "print(f\"Tetta_estim - {tetta_estim}\")\n",
    "print(f\"Interval for med - ({left}, {right})\")"
   ]
  },
  {
   "cell_type": "markdown",
   "metadata": {},
   "source": [
    "### Тэтта"
   ]
  },
  {
   "cell_type": "code",
   "execution_count": 34,
   "metadata": {},
   "outputs": [
    {
     "name": "stdout",
     "output_type": "stream",
     "text": [
      "Interval for tetta - (-1.28, -1.257)\n"
     ]
    }
   ],
   "source": [
    "fisher = np.sqrt((tetta_estim - 1) ** 4 / (tetta_estim ** 2 - 4 * tetta_estim + 5))\n",
    "\n",
    "right0 = np.round(-(-1.96 / np.sqrt(elem_number) * fisher + 1 + elem_number / np.sum(np.log(distribution))), 3)\n",
    "left0 = np.round(-(1.96 / np.sqrt(elem_number) * fisher + 1 + elem_number / np.sum(np.log(distribution))), 3)\n",
    "\n",
    "print(f\"Interval for tetta - ({left0}, {right0})\")"
   ]
  },
  {
   "cell_type": "markdown",
   "metadata": {},
   "source": [
    "### Непараметрический бутстрап"
   ]
  },
  {
   "cell_type": "code",
   "execution_count": 47,
   "metadata": {},
   "outputs": [
    {
     "name": "stdout",
     "output_type": "stream",
     "text": [
      "Param bootstrap interval - (1.23, 1.318)\n"
     ]
    }
   ],
   "source": [
    "N = 1000\n",
    "btstrp_delta = np.array([])\n",
    "\n",
    "def find_tetta(arr, N):\n",
    "    return np.round(N / np.sum(np.log(arr)) + 1, 3)\n",
    "\n",
    "for _ in range(N):\n",
    "    temp = np.random.choice(distribution, len(distribution))\n",
    "    btstrp_delta = np.append(btstrp_delta, find_tetta(temp, elem_number))\n",
    "btstrp_delta = np.sort(btstrp_delta)\n",
    "\n",
    "left_non_param = np.abs(np.round(btstrp_delta[int((1 - betta) / 2 * N)], 3))\n",
    "rigth_non_param = np.round(btstrp_delta[int((1 + betta) / 2 * N)], 3)\n",
    "\n",
    "print(f\"Param bootstrap interval - ({left_non_param}, {rigth_non_param})\")"
   ]
  },
  {
   "cell_type": "markdown",
   "metadata": {},
   "source": [
    "### Параметрический бутстрап"
   ]
  },
  {
   "cell_type": "code",
   "execution_count": 48,
   "metadata": {},
   "outputs": [
    {
     "name": "stdout",
     "output_type": "stream",
     "text": [
      "Param bootstrap interval - (1.23, 1.318)\n"
     ]
    }
   ],
   "source": [
    "n = 50000\n",
    "param_btstrp_delta = np.array([])\n",
    "\n",
    "for _ in range(n):\n",
    "    temp = np.array([pareto(x, tetta) for x in np.random.sample(elem_number)])\n",
    "    param_btstrp_delta = np.append(param_btstrp_delta, find_tetta(temp, elem_number))\n",
    "param_btstrp_delta = np.sort(param_btstrp_delta)\n",
    "\n",
    "left_param = np.abs(np.round(btstrp_delta[int((1 - betta) / 2 * N)], 3))\n",
    "rigth_param = np.round(btstrp_delta[int((1 + betta) / 2 * N)], 3)\n",
    "\n",
    "print(f\"Param bootstrap interval - ({left_param}, {rigth_param})\")"
   ]
  },
  {
   "cell_type": "code",
   "execution_count": null,
   "metadata": {},
   "outputs": [
    {
     "data": {
      "image/png": "[encoded data removed]",
      "text/plain": [
       "<Figure size 640x480 with 1 Axes>"
      ]
     },
     "metadata": {},
     "output_type": "display_data"
    }
   ],
   "source": [
    "x1 = np.linspace(left, right, 100)\n",
    "y1 = [1] * 100\n",
    "\n",
    "x2 = np.linspace(left0, right0, 100)\n",
    "y2 = [2] * 100\n",
    "\n",
    "x3 = np.linspace(left_param, rigth_param, 100)\n",
    "y3 = [3] * 100\n",
    "\n",
    "x4 = np.linspace(left_non_param, rigth_non_param, 100)\n",
    "y4 = [4] * 100\n",
    "\n",
    "plt.plot(x1, y1, label=\"Точный\", color=\"blue\", linewidth=2)\n",
    "plt.plot(x2, y2, label=\"Асимптотический\", color=\"green\", linewidth=2)\n",
    "plt.plot(x3, y3, label=\"Бутстрап\", color=\"red\", linewidth=2)\n",
    "plt.plot(x4, y4, label=\"Бутрстрап непараметрический\", color=\"purple\", linewidth=2)\n",
    "\n",
    "plt.legend([\"Mediana\", \"Tetta\", \"Bootstrap param\", \"bootstrap non param\"])\n",
    "plt.yticks([1, 2, 3, 4], [\"Mediana\", \"Tetta\", \"Bootstrap param\", \"bootstrap non param\"])\n",
    "plt.xlabel(\"Param\")\n",
    "plt.title(\"Interval\")\n",
    "\n",
    "plt.show()"
   ]
  }
 ],
 "metadata": {
  "kernelspec": {
   "display_name": "Python 3",
   "language": "python",
   "name": "python3"
  },
  "language_info": {
   "codemirror_mode": {
    "name": "ipython",
    "version": 3
   },
   "file_extension": ".py",
   "mimetype": "text/x-python",
   "name": "python",
   "nbconvert_exporter": "python",
   "pygments_lexer": "ipython3",
   "version": "3.11.1"
  }
 },
 "nbformat": 4,
 "nbformat_minor": 2
}
