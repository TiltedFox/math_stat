{
 "cells": [
  {
   "cell_type": "code",
   "execution_count": 41,
   "metadata": {},
   "outputs": [],
   "source": [
    "import numpy as np"
   ]
  },
  {
   "cell_type": "markdown",
   "metadata": {},
   "source": [
    "### Константы"
   ]
  },
  {
   "cell_type": "code",
   "execution_count": 79,
   "metadata": {},
   "outputs": [],
   "source": [
    "elem_number = 100\n",
    "tetta = 5\n",
    "betta = 0.95"
   ]
  },
  {
   "cell_type": "markdown",
   "metadata": {},
   "source": [
    "### Генерация выборки"
   ]
  },
  {
   "cell_type": "code",
   "execution_count": 49,
   "metadata": {},
   "outputs": [],
   "source": [
    "rng = np.random.default_rng()\n",
    "distribution = rng.uniform(tetta, 2*tetta, elem_number)"
   ]
  },
  {
   "cell_type": "markdown",
   "metadata": {},
   "source": [
    "### Выборка\n",
    "![image](distribution.png)"
   ]
  },
  {
   "cell_type": "markdown",
   "metadata": {},
   "source": [
    "### ОММ"
   ]
  },
  {
   "cell_type": "code",
   "execution_count": 59,
   "metadata": {},
   "outputs": [
    {
     "name": "stdout",
     "output_type": "stream",
     "text": [
      "4.917119462336594\n",
      "2.040919877958343\n"
     ]
    }
   ],
   "source": [
    "omm_estim = np.average(distribution * 2 / 3)\n",
    "omm_disp = np.sum((distribution - np.average(distribution)) ** 2) / elem_number\n",
    "\n",
    "print(omm_estim)\n",
    "print(omm_disp)"
   ]
  },
  {
   "cell_type": "markdown",
   "metadata": {},
   "source": [
    "### ОМП"
   ]
  },
  {
   "cell_type": "code",
   "execution_count": 60,
   "metadata": {},
   "outputs": [
    {
     "name": "stdout",
     "output_type": "stream",
     "text": [
      "9.990190764642838\n"
     ]
    }
   ],
   "source": [
    "omp_estim = np.max(distribution)\n",
    "\n",
    "print(omp_estim)"
   ]
  },
  {
   "cell_type": "markdown",
   "metadata": {},
   "source": [
    "### Непараметрический бутстрап"
   ]
  },
  {
   "cell_type": "code",
   "execution_count": 80,
   "metadata": {},
   "outputs": [
    {
     "name": "stdout",
     "output_type": "stream",
     "text": [
      "Квантиль 0.025 - 0.0\n",
      "Квантиль 0.975 - 0.238\n",
      "4.785 < h < 5.023 \n"
     ]
    }
   ],
   "source": [
    "N = 1000\n",
    "btstrp_tetta = np.round(np.min(distribution), 3) # Так как у нас тэтта - левая граница интервала, \n",
    "                                    #принимаем минимальное число за тэтту\n",
    "btstrp_delta = np.array([])\n",
    "\n",
    "for _ in range(N):\n",
    "    gen = np.random.choice(distribution, len(distribution))\n",
    "    btstrp_pseudo_tetta = np.min(gen) \n",
    "    btstrp_delta = np.append(btstrp_delta, btstrp_pseudo_tetta - btstrp_tetta)\n",
    "\n",
    "btstrp_delta = np.sort(btstrp_delta)\n",
    "\n",
    "t1 = np.abs(np.round(btstrp_delta[int((1 - betta) / 2 * N)], 3))\n",
    "t2 = np.round(btstrp_delta[int((1 + betta) / 2 * N)], 3)\n",
    "\n",
    "print(f\"Квантиль {np.round((1 - betta) / 2, 3)} - {t1}\\nКвантиль {np.round((1 + betta) / 2, 3)} - {t2}\")\n",
    "print(f\"{btstrp_tetta - t2} < h < {btstrp_tetta - t1} \")"
   ]
  }
 ],
 "metadata": {
  "kernelspec": {
   "display_name": "Python 3",
   "language": "python",
   "name": "python3"
  },
  "language_info": {
   "codemirror_mode": {
    "name": "ipython",
    "version": 3
   },
   "file_extension": ".py",
   "mimetype": "text/x-python",
   "name": "python",
   "nbconvert_exporter": "python",
   "pygments_lexer": "ipython3",
   "version": "3.11.1"
  }
 },
 "nbformat": 4,
 "nbformat_minor": 2
}
